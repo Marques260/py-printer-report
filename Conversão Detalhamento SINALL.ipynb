{
 "cells": [
  {
   "cell_type": "code",
   "execution_count": 2,
   "id": "55b30b4e",
   "metadata": {
    "scrolled": false
   },
   "outputs": [
    {
     "name": "stdout",
     "output_type": "stream",
     "text": [
      "Requirement already satisfied: pyautogui in c:\\programdata\\anaconda3\\lib\\site-packages (0.9.53)\n",
      "Requirement already satisfied: PyTweening>=1.0.1 in c:\\programdata\\anaconda3\\lib\\site-packages (from pyautogui) (1.0.4)\n",
      "Requirement already satisfied: pymsgbox in c:\\programdata\\anaconda3\\lib\\site-packages (from pyautogui) (1.0.9)\n",
      "Requirement already satisfied: pyscreeze>=0.1.21 in c:\\programdata\\anaconda3\\lib\\site-packages (from pyautogui) (0.1.28)\n",
      "Requirement already satisfied: mouseinfo in c:\\programdata\\anaconda3\\lib\\site-packages (from pyautogui) (0.1.3)\n",
      "Requirement already satisfied: pygetwindow>=0.0.5 in c:\\programdata\\anaconda3\\lib\\site-packages (from pyautogui) (0.0.9)\n",
      "Requirement already satisfied: pyrect in c:\\programdata\\anaconda3\\lib\\site-packages (from pygetwindow>=0.0.5->pyautogui) (0.2.0)\n",
      "Requirement already satisfied: pyperclip in c:\\programdata\\anaconda3\\lib\\site-packages (from mouseinfo->pyautogui) (1.8.2)\n",
      "Note: you may need to restart the kernel to use updated packages.\n"
     ]
    }
   ],
   "source": [
    "pip install pyautogui"
   ]
  },
  {
   "cell_type": "code",
   "execution_count": 14,
   "id": "911d0633",
   "metadata": {
    "scrolled": true
   },
   "outputs": [
    {
     "data": {
      "text/plain": [
       "'OK'"
      ]
     },
     "execution_count": 14,
     "metadata": {},
     "output_type": "execute_result"
    }
   ],
   "source": [
    "#Automação Detalhamento SINALL\n",
    "\n",
    "import pyautogui\n",
    "import time\n",
    "\n",
    "#opening the outlook#\n",
    "#you can change the intervals to adapt the script to your machine speed#\n",
    "pyautogui.press('win')\n",
    "time.sleep(0.5)\n",
    "pyautogui.write('outlook', interval=0.1)\n",
    "pyautogui.press('enter')\n",
    "time.sleep(2)\n",
    "\n",
    "#searching for the e-mail#\n",
    "time.sleep(0.5)\n",
    "pyautogui.press('tab')\n",
    "pyautogui.press('enter')\n",
    "pyautogui.hotkey('alt', 'g')\n",
    "pyautogui.write('detalhamento sinall', interval=0.05)\n",
    "pyautogui.press('enter')\n",
    "time.sleep(2)\n",
    "\n",
    "#open the PDF in the e-mail#\n",
    "pyautogui.press('enter')\n",
    "pyautogui.press('tab', presses=8, interval=0.2)\n",
    "pyautogui.press('right')\n",
    "time.sleep(1)\n",
    "pyautogui.press('enter')\n",
    "time.sleep(1)\n",
    "\n",
    "#converting to excel#\n",
    "pyautogui.hotkey('win', 'up')\n",
    "pyautogui.moveTo(131, 71, duration=0.3)\n",
    "time.sleep(0.3)\n",
    "pyautogui.click()\n",
    "time.sleep(0.5)\n",
    "pyautogui.press('tab', presses=9, interval=0.2)\n",
    "pyautogui.press('enter')\n",
    "time.sleep(2)\n",
    "pyautogui.press('down')\n",
    "pyautogui.moveTo(r'\\\\srvfiles\\DEPARTAMENTOS\\TI\\Mateus\\Python\\elements\\exportar_pdf.png')\n",
    "time.sleep(1)\n",
    "pyautogui.click()\n",
    "\n",
    "\n",
    "#saving the document\n",
    "time.sleep(0.5)\n",
    "pyautogui.hotkey('alt', 'e')\n",
    "pyautogui.write(r'\\\\srvfiles\\DEPARTAMENTOS\\TI\\Mateus\\Impressoras\\SINALL\\DETALHAMENTO 2022', interval=0.01)\n",
    "pyautogui.press('enter')\n",
    "\n",
    "#alert, finished!\n",
    "time.sleep(1)\n",
    "pyautogui.alert('Finalizado, dê um nome ao arquivo e salve.', title='FINISHED!')\n"
   ]
  },
  {
   "cell_type": "code",
   "execution_count": null,
   "id": "afb18def",
   "metadata": {},
   "outputs": [],
   "source": []
  }
 ],
 "metadata": {
  "kernelspec": {
   "display_name": "Python 3 (ipykernel)",
   "language": "python",
   "name": "python3"
  },
  "language_info": {
   "codemirror_mode": {
    "name": "ipython",
    "version": 3
   },
   "file_extension": ".py",
   "mimetype": "text/x-python",
   "name": "python",
   "nbconvert_exporter": "python",
   "pygments_lexer": "ipython3",
   "version": "3.9.7"
  }
 },
 "nbformat": 4,
 "nbformat_minor": 5
}
